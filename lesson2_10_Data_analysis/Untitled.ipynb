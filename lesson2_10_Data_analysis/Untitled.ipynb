{
 "cells": [
  {
   "cell_type": "code",
   "execution_count": 330,
   "metadata": {},
   "outputs": [],
   "source": [
    "import pandas as pd"
   ]
  },
  {
   "cell_type": "code",
   "execution_count": 331,
   "metadata": {},
   "outputs": [],
   "source": [
    "path = 'names/'"
   ]
  },
  {
   "cell_type": "code",
   "execution_count": 332,
   "metadata": {},
   "outputs": [],
   "source": [
    "def count_top3(years_list):\n",
    "    all_years = None\n",
    "    for i, year in enumerate(years_list):\n",
    "        info_from_file = pd.read_csv(path +'yob'+str(year)+'.txt', delimiter = ',', names=['name', 'sex', 'count'])\n",
    "        if i == 0:\n",
    "            all_years = info_from_file\n",
    "        else:\n",
    "            all_years = pd.concat([all_years, info_from_file])\n",
    "    res = all_years.groupby('name').aggregate(sum).sort_values('count', ascending=False).head(3)\n",
    "    return list(res.index)"
   ]
  },
  {
   "cell_type": "code",
   "execution_count": 333,
   "metadata": {},
   "outputs": [
    {
     "data": {
      "text/plain": [
       "['Mary', 'John', 'William']"
      ]
     },
     "execution_count": 333,
     "metadata": {},
     "output_type": "execute_result"
    }
   ],
   "source": [
    "count_top3([1900])"
   ]
  },
  {
   "cell_type": "code",
   "execution_count": 334,
   "metadata": {},
   "outputs": [
    {
     "data": {
      "text/plain": [
       "['James', 'John', 'Robert']"
      ]
     },
     "execution_count": 334,
     "metadata": {},
     "output_type": "execute_result"
    }
   ],
   "source": [
    "count_top3([1900, 1950, 2000])"
   ]
  },
  {
   "cell_type": "code",
   "execution_count": 402,
   "metadata": {},
   "outputs": [],
   "source": [
    "def count_dynamics(years_list):\n",
    "    my_dict = {'F':[], 'M':[]}\n",
    "    for year in years_list:\n",
    "        my_year = pd.read_csv(path +'yob'+str(year)+'.txt', delimiter = ',', names=['name', 'sex', 'count'])\n",
    "        s = my_year.groupby('sex').aggregate(sum).sort_values('count', ascending=False).head(3).to_dict('split')\n",
    "        s2 = list(s.values())\n",
    "        my_dict['F'].append(s2[2][0])\n",
    "        my_dict['M'].append(s2[2][1])\n",
    "    return my_dict"
   ]
  },
  {
   "cell_type": "code",
   "execution_count": 403,
   "metadata": {},
   "outputs": [
    {
     "data": {
      "text/plain": [
       "{'F': [[299798], [1790437], [1963202]], 'M': [[150480], [1713065], [1815295]]}"
      ]
     },
     "execution_count": 403,
     "metadata": {},
     "output_type": "execute_result"
    }
   ],
   "source": [
    "count_dynamics([1900, 1950, 2000])"
   ]
  },
  {
   "cell_type": "code",
   "execution_count": null,
   "metadata": {},
   "outputs": [],
   "source": []
  }
 ],
 "metadata": {
  "kernelspec": {
   "display_name": "Python 3",
   "language": "python",
   "name": "python3"
  },
  "language_info": {
   "codemirror_mode": {
    "name": "ipython",
    "version": 3
   },
   "file_extension": ".py",
   "mimetype": "text/x-python",
   "name": "python",
   "nbconvert_exporter": "python",
   "pygments_lexer": "ipython3",
   "version": "3.7.4"
  }
 },
 "nbformat": 4,
 "nbformat_minor": 2
}
